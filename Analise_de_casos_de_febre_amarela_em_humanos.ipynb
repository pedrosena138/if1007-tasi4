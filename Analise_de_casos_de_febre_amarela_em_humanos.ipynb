{
  "nbformat": 4,
  "nbformat_minor": 0,
  "metadata": {
    "colab": {
      "provenance": [],
      "collapsed_sections": [],
      "include_colab_link": true
    },
    "kernelspec": {
      "name": "python3",
      "display_name": "Python 3"
    },
    "language_info": {
      "name": "python"
    }
  },
  "cells": [
    {
      "cell_type": "markdown",
      "metadata": {
        "id": "view-in-github",
        "colab_type": "text"
      },
      "source": [
        "<a href=\"https://colab.research.google.com/github/pedrosena138/if1007-tasi4/blob/main/Analise_de_casos_de_febre_amarela_em_humanos.ipynb\" target=\"_parent\"><img src=\"https://colab.research.google.com/assets/colab-badge.svg\" alt=\"Open In Colab\"/></a>"
      ]
    },
    {
      "cell_type": "markdown",
      "source": [
        "# Analise de casos de febre amarela em humanos nos estados brasileiros"
      ],
      "metadata": {
        "id": "B3v05ZZsXRTA"
      }
    },
    {
      "cell_type": "markdown",
      "source": [
        "## Bibliotecas"
      ],
      "metadata": {
        "id": "vt4ZUClQXLit"
      }
    },
    {
      "cell_type": "code",
      "execution_count": 101,
      "metadata": {
        "id": "0b33541aZnl3"
      },
      "outputs": [],
      "source": [
        "import pandas as pd\n",
        "import numpy as np\n",
        "import matplotlib.pyplot as plt\n",
        "%matplotlib inline\n",
        "\n",
        "params = {\n",
        "    'legend.fontsize': 'x-large',\n",
        "    'figure.figsize': (15, 5),\n",
        "    'axes.labelsize': 'x-large',\n",
        "    'axes.titlesize':'x-large',\n",
        "    'xtick.labelsize':'x-large',\n",
        "    'ytick.labelsize':'x-large'\n",
        "}\n",
        "\n",
        "plt.rcParams.update(params)\n",
        "plt.style.use('seaborn')"
      ]
    },
    {
      "cell_type": "markdown",
      "source": [
        "## Descrição da Base"
      ],
      "metadata": {
        "id": "5vsFIHJEXAPh"
      }
    },
    {
      "cell_type": "markdown",
      "source": [
        "| Coluna            | Descrição                                                     |\n",
        "|-------------------|---------------------------------------------------------------|\n",
        "| ID                | Identificador sequencial único                                |\n",
        "| MACRORREG_LPI     | Sigla da macrorregião do local provável de infecção           |\n",
        "| COD_UF_LPI        | Código IBGE da Unidade Federada do local provável de infecção |\n",
        "| UF_LPI            | Sigla da Unidade Federada do local provável de infecção       |\n",
        "| COD_MUN_LPI       | Código IBGE do município do local provável de infecção        |\n",
        "| MUN_LPI           | Nome do município do local provável de infecção               |\n",
        "| SEXO              | Sexo do indivíduo                                             |\n",
        "| IDADE             | Idade do indivíduo                                            |\n",
        "| DT_IS             | Data de início dos sintomas do indivíduo (dd/mm/aaaa)         |\n",
        "| SE_IS             | Semana epidemiológica de início dos sintomas do indivíduo     |\n",
        "| MES_IS            | Mês de início dos sintomas do indivíduo                       |\n",
        "| ANO_IS            | Ano de início dos sintomas do indivíduo                       |\n",
        "| MONITORAMENTO_IS  | Período de monitoramento de início dos sintomas do indivíduo¹ |\n",
        "| OBITO             | Evolução para o óbito                                         |\n",
        "| DT_OBITO          | Data do óbito (dd/mm/aaaa)                                    |\n",
        "\n",
        "¹ o **período de monitoramento** corresponde à estratificação temporal dos dados em períodos\n",
        "anuais com início em julho e término em junho. Cada período de monitoramento corresponde\n",
        "a um intervalo de 12 meses, que inclui o segundo semestre de um ano e o primeiro semestre do\n",
        "ano seguinte. Essa representação do componente temporal decorre do reconhecimento de um\n",
        "período sazonal de transmissão, entre dezembro e maio, que concentra a maior parte dos\n",
        "eventos registrados no país, e tem como intuito evitar a análise fragmentada dos processos de\n",
        "transmissão, cujo pico de ocorrência se dá geralmente na transição entre os anos. O Ministério\n",
        "da Saúde adota essa estratificação para fins de políticas de vigilância em saúde e análise\n",
        "epidemiológica\n",
        "\n",
        "Fonte: https://opendatasus.saude.gov.br/dataset/febre-amarela-em-humanos-e-primatas-nao-humanos"
      ],
      "metadata": {
        "id": "WG0PPYM8U6X5"
      }
    },
    {
      "cell_type": "code",
      "source": [
        "df = pd.read_csv('https://s3.sa-east-1.amazonaws.com/ckan.saude.gov.br/Febre+Amarela/fa_casoshumanos_1994-2021.csv', sep=';', encoding='latin-1')"
      ],
      "metadata": {
        "id": "6IvBbCRoaNpt"
      },
      "execution_count": 102,
      "outputs": []
    },
    {
      "cell_type": "code",
      "source": [
        "print(df.info())\n",
        "df.head()"
      ],
      "metadata": {
        "colab": {
          "base_uri": "https://localhost:8080/",
          "height": 588
        },
        "id": "ttF5hHmbboWC",
        "outputId": "700bb406-a050-41d8-e67f-af669dad73a8"
      },
      "execution_count": 103,
      "outputs": [
        {
          "output_type": "stream",
          "name": "stdout",
          "text": [
            "<class 'pandas.core.frame.DataFrame'>\n",
            "RangeIndex: 2758 entries, 0 to 2757\n",
            "Data columns (total 14 columns):\n",
            " #   Column            Non-Null Count  Dtype  \n",
            "---  ------            --------------  -----  \n",
            " 0   ID                2758 non-null   int64  \n",
            " 1   MACRORREG_LPI     2758 non-null   object \n",
            " 2   COD_UF_LPI        2758 non-null   int64  \n",
            " 3   UF_LPI            2758 non-null   object \n",
            " 4   COD_MUN_LPI       2751 non-null   float64\n",
            " 5   MUN_LPI           2752 non-null   object \n",
            " 6   SEXO              2757 non-null   object \n",
            " 7   IDADE             2756 non-null   object \n",
            " 8   DT_IS             2753 non-null   object \n",
            " 9   SE_IS             2742 non-null   float64\n",
            " 10  MES_IS            2747 non-null   float64\n",
            " 11  ANO_IS            2758 non-null   int64  \n",
            " 12  MONITORAMENTO_IS  2758 non-null   object \n",
            " 13  OBITO             2758 non-null   object \n",
            "dtypes: float64(3), int64(3), object(8)\n",
            "memory usage: 301.8+ KB\n",
            "None\n"
          ]
        },
        {
          "output_type": "execute_result",
          "data": {
            "text/plain": [
              "   ID MACRORREG_LPI  COD_UF_LPI UF_LPI  COD_MUN_LPI                MUN_LPI  \\\n",
              "0   1             N          14     RR     140005.0            Alto Alegre   \n",
              "1   2             N          14     RR     140045.0              Pacaraima   \n",
              "2   3            NE          21     MA     210060.0   Amarante do Maranhão   \n",
              "3   4            NE          21     MA     210060.0   Amarante do Maranhão   \n",
              "4   5             N          15     PA     150270.0  Conceição do Araguaia   \n",
              "\n",
              "  SEXO IDADE       DT_IS  SE_IS  MES_IS  ANO_IS MONITORAMENTO_IS OBITO  \n",
              "0    M   NaN  29/11/1994   48.0    11.0    1994        1994/1995   SIM  \n",
              "1    M    19  19/02/1995    8.0     2.0    1995        1994/1995   NÃO  \n",
              "2    M    32  01/04/1995   13.0     4.0    1995        1994/1995   IGN  \n",
              "3    M    33  03/04/1995   14.0     4.0    1995        1994/1995   SIM  \n",
              "4    M    26  12/04/1995   15.0     4.0    1995        1994/1995   SIM  "
            ],
            "text/html": [
              "\n",
              "  <div id=\"df-047ca2a7-3163-4c84-a916-52ff3ea0111c\">\n",
              "    <div class=\"colab-df-container\">\n",
              "      <div>\n",
              "<style scoped>\n",
              "    .dataframe tbody tr th:only-of-type {\n",
              "        vertical-align: middle;\n",
              "    }\n",
              "\n",
              "    .dataframe tbody tr th {\n",
              "        vertical-align: top;\n",
              "    }\n",
              "\n",
              "    .dataframe thead th {\n",
              "        text-align: right;\n",
              "    }\n",
              "</style>\n",
              "<table border=\"1\" class=\"dataframe\">\n",
              "  <thead>\n",
              "    <tr style=\"text-align: right;\">\n",
              "      <th></th>\n",
              "      <th>ID</th>\n",
              "      <th>MACRORREG_LPI</th>\n",
              "      <th>COD_UF_LPI</th>\n",
              "      <th>UF_LPI</th>\n",
              "      <th>COD_MUN_LPI</th>\n",
              "      <th>MUN_LPI</th>\n",
              "      <th>SEXO</th>\n",
              "      <th>IDADE</th>\n",
              "      <th>DT_IS</th>\n",
              "      <th>SE_IS</th>\n",
              "      <th>MES_IS</th>\n",
              "      <th>ANO_IS</th>\n",
              "      <th>MONITORAMENTO_IS</th>\n",
              "      <th>OBITO</th>\n",
              "    </tr>\n",
              "  </thead>\n",
              "  <tbody>\n",
              "    <tr>\n",
              "      <th>0</th>\n",
              "      <td>1</td>\n",
              "      <td>N</td>\n",
              "      <td>14</td>\n",
              "      <td>RR</td>\n",
              "      <td>140005.0</td>\n",
              "      <td>Alto Alegre</td>\n",
              "      <td>M</td>\n",
              "      <td>NaN</td>\n",
              "      <td>29/11/1994</td>\n",
              "      <td>48.0</td>\n",
              "      <td>11.0</td>\n",
              "      <td>1994</td>\n",
              "      <td>1994/1995</td>\n",
              "      <td>SIM</td>\n",
              "    </tr>\n",
              "    <tr>\n",
              "      <th>1</th>\n",
              "      <td>2</td>\n",
              "      <td>N</td>\n",
              "      <td>14</td>\n",
              "      <td>RR</td>\n",
              "      <td>140045.0</td>\n",
              "      <td>Pacaraima</td>\n",
              "      <td>M</td>\n",
              "      <td>19</td>\n",
              "      <td>19/02/1995</td>\n",
              "      <td>8.0</td>\n",
              "      <td>2.0</td>\n",
              "      <td>1995</td>\n",
              "      <td>1994/1995</td>\n",
              "      <td>NÃO</td>\n",
              "    </tr>\n",
              "    <tr>\n",
              "      <th>2</th>\n",
              "      <td>3</td>\n",
              "      <td>NE</td>\n",
              "      <td>21</td>\n",
              "      <td>MA</td>\n",
              "      <td>210060.0</td>\n",
              "      <td>Amarante do Maranhão</td>\n",
              "      <td>M</td>\n",
              "      <td>32</td>\n",
              "      <td>01/04/1995</td>\n",
              "      <td>13.0</td>\n",
              "      <td>4.0</td>\n",
              "      <td>1995</td>\n",
              "      <td>1994/1995</td>\n",
              "      <td>IGN</td>\n",
              "    </tr>\n",
              "    <tr>\n",
              "      <th>3</th>\n",
              "      <td>4</td>\n",
              "      <td>NE</td>\n",
              "      <td>21</td>\n",
              "      <td>MA</td>\n",
              "      <td>210060.0</td>\n",
              "      <td>Amarante do Maranhão</td>\n",
              "      <td>M</td>\n",
              "      <td>33</td>\n",
              "      <td>03/04/1995</td>\n",
              "      <td>14.0</td>\n",
              "      <td>4.0</td>\n",
              "      <td>1995</td>\n",
              "      <td>1994/1995</td>\n",
              "      <td>SIM</td>\n",
              "    </tr>\n",
              "    <tr>\n",
              "      <th>4</th>\n",
              "      <td>5</td>\n",
              "      <td>N</td>\n",
              "      <td>15</td>\n",
              "      <td>PA</td>\n",
              "      <td>150270.0</td>\n",
              "      <td>Conceição do Araguaia</td>\n",
              "      <td>M</td>\n",
              "      <td>26</td>\n",
              "      <td>12/04/1995</td>\n",
              "      <td>15.0</td>\n",
              "      <td>4.0</td>\n",
              "      <td>1995</td>\n",
              "      <td>1994/1995</td>\n",
              "      <td>SIM</td>\n",
              "    </tr>\n",
              "  </tbody>\n",
              "</table>\n",
              "</div>\n",
              "      <button class=\"colab-df-convert\" onclick=\"convertToInteractive('df-047ca2a7-3163-4c84-a916-52ff3ea0111c')\"\n",
              "              title=\"Convert this dataframe to an interactive table.\"\n",
              "              style=\"display:none;\">\n",
              "        \n",
              "  <svg xmlns=\"http://www.w3.org/2000/svg\" height=\"24px\"viewBox=\"0 0 24 24\"\n",
              "       width=\"24px\">\n",
              "    <path d=\"M0 0h24v24H0V0z\" fill=\"none\"/>\n",
              "    <path d=\"M18.56 5.44l.94 2.06.94-2.06 2.06-.94-2.06-.94-.94-2.06-.94 2.06-2.06.94zm-11 1L8.5 8.5l.94-2.06 2.06-.94-2.06-.94L8.5 2.5l-.94 2.06-2.06.94zm10 10l.94 2.06.94-2.06 2.06-.94-2.06-.94-.94-2.06-.94 2.06-2.06.94z\"/><path d=\"M17.41 7.96l-1.37-1.37c-.4-.4-.92-.59-1.43-.59-.52 0-1.04.2-1.43.59L10.3 9.45l-7.72 7.72c-.78.78-.78 2.05 0 2.83L4 21.41c.39.39.9.59 1.41.59.51 0 1.02-.2 1.41-.59l7.78-7.78 2.81-2.81c.8-.78.8-2.07 0-2.86zM5.41 20L4 18.59l7.72-7.72 1.47 1.35L5.41 20z\"/>\n",
              "  </svg>\n",
              "      </button>\n",
              "      \n",
              "  <style>\n",
              "    .colab-df-container {\n",
              "      display:flex;\n",
              "      flex-wrap:wrap;\n",
              "      gap: 12px;\n",
              "    }\n",
              "\n",
              "    .colab-df-convert {\n",
              "      background-color: #E8F0FE;\n",
              "      border: none;\n",
              "      border-radius: 50%;\n",
              "      cursor: pointer;\n",
              "      display: none;\n",
              "      fill: #1967D2;\n",
              "      height: 32px;\n",
              "      padding: 0 0 0 0;\n",
              "      width: 32px;\n",
              "    }\n",
              "\n",
              "    .colab-df-convert:hover {\n",
              "      background-color: #E2EBFA;\n",
              "      box-shadow: 0px 1px 2px rgba(60, 64, 67, 0.3), 0px 1px 3px 1px rgba(60, 64, 67, 0.15);\n",
              "      fill: #174EA6;\n",
              "    }\n",
              "\n",
              "    [theme=dark] .colab-df-convert {\n",
              "      background-color: #3B4455;\n",
              "      fill: #D2E3FC;\n",
              "    }\n",
              "\n",
              "    [theme=dark] .colab-df-convert:hover {\n",
              "      background-color: #434B5C;\n",
              "      box-shadow: 0px 1px 3px 1px rgba(0, 0, 0, 0.15);\n",
              "      filter: drop-shadow(0px 1px 2px rgba(0, 0, 0, 0.3));\n",
              "      fill: #FFFFFF;\n",
              "    }\n",
              "  </style>\n",
              "\n",
              "      <script>\n",
              "        const buttonEl =\n",
              "          document.querySelector('#df-047ca2a7-3163-4c84-a916-52ff3ea0111c button.colab-df-convert');\n",
              "        buttonEl.style.display =\n",
              "          google.colab.kernel.accessAllowed ? 'block' : 'none';\n",
              "\n",
              "        async function convertToInteractive(key) {\n",
              "          const element = document.querySelector('#df-047ca2a7-3163-4c84-a916-52ff3ea0111c');\n",
              "          const dataTable =\n",
              "            await google.colab.kernel.invokeFunction('convertToInteractive',\n",
              "                                                     [key], {});\n",
              "          if (!dataTable) return;\n",
              "\n",
              "          const docLinkHtml = 'Like what you see? Visit the ' +\n",
              "            '<a target=\"_blank\" href=https://colab.research.google.com/notebooks/data_table.ipynb>data table notebook</a>'\n",
              "            + ' to learn more about interactive tables.';\n",
              "          element.innerHTML = '';\n",
              "          dataTable['output_type'] = 'display_data';\n",
              "          await google.colab.output.renderOutput(dataTable, element);\n",
              "          const docLink = document.createElement('div');\n",
              "          docLink.innerHTML = docLinkHtml;\n",
              "          element.appendChild(docLink);\n",
              "        }\n",
              "      </script>\n",
              "    </div>\n",
              "  </div>\n",
              "  "
            ]
          },
          "metadata": {},
          "execution_count": 103
        }
      ]
    },
    {
      "cell_type": "code",
      "source": [
        "total = df.shape[0]\n",
        "values = df.groupby(df['ANO_IS'] >= 2007).size().values\n",
        "labels = ['Antes', 'Depois']\n",
        "plt.pie(values, labels=labels, autopct='%1.1f%%', shadow=True)\n",
        "plt.axis('equal')\n",
        "plt.title('Distribuição dos casos antes e depois da integração com o SINAN.\\nBrasil 1994 a 2021', fontsize=16)\n",
        "plt.show()"
      ],
      "metadata": {
        "colab": {
          "base_uri": "https://localhost:8080/",
          "height": 365
        },
        "id": "Ybn07iujNZKQ",
        "outputId": "7305e1b3-5e34-45b1-a8ad-6945a57a6e5e"
      },
      "execution_count": 104,
      "outputs": [
        {
          "output_type": "display_data",
          "data": {
            "text/plain": [
              "<Figure size 576x396 with 1 Axes>"
            ],
            "image/png": "[encoded data removed]"
          },
          "metadata": {}
        }
      ]
    },
    {
      "cell_type": "code",
      "source": [
        "df_2007 = df[df['ANO_IS'] >= 2007]\n",
        "print(df_2007.info())\n",
        "df_2007.tail()"
      ],
      "metadata": {
        "colab": {
          "base_uri": "https://localhost:8080/",
          "height": 588
        },
        "id": "PPjyosLTPhtZ",
        "outputId": "95dd0a42-9754-4f2b-8c1a-d82d8347b08e"
      },
      "execution_count": 105,
      "outputs": [
        {
          "output_type": "stream",
          "name": "stdout",
          "text": [
            "<class 'pandas.core.frame.DataFrame'>\n",
            "Int64Index: 2409 entries, 349 to 2757\n",
            "Data columns (total 14 columns):\n",
            " #   Column            Non-Null Count  Dtype  \n",
            "---  ------            --------------  -----  \n",
            " 0   ID                2409 non-null   int64  \n",
            " 1   MACRORREG_LPI     2409 non-null   object \n",
            " 2   COD_UF_LPI        2409 non-null   int64  \n",
            " 3   UF_LPI            2409 non-null   object \n",
            " 4   COD_MUN_LPI       2402 non-null   float64\n",
            " 5   MUN_LPI           2403 non-null   object \n",
            " 6   SEXO              2408 non-null   object \n",
            " 7   IDADE             2408 non-null   object \n",
            " 8   DT_IS             2406 non-null   object \n",
            " 9   SE_IS             2406 non-null   float64\n",
            " 10  MES_IS            2409 non-null   float64\n",
            " 11  ANO_IS            2409 non-null   int64  \n",
            " 12  MONITORAMENTO_IS  2409 non-null   object \n",
            " 13  OBITO             2409 non-null   object \n",
            "dtypes: float64(3), int64(3), object(8)\n",
            "memory usage: 282.3+ KB\n",
            "None\n"
          ]
        },
        {
          "output_type": "execute_result",
          "data": {
            "text/plain": [
              "        ID MACRORREG_LPI  COD_UF_LPI UF_LPI  COD_MUN_LPI         MUN_LPI SEXO  \\\n",
              "2753  2754             S          42     SC     420060.0    ÁGUAS MORNAS    M   \n",
              "2754  2755             S          42     SC     421780.0            TAIÓ    F   \n",
              "2755  2756             N          15     PA     150030.0            AFUÁ    M   \n",
              "2756  2757             N          15     PA     150030.0            AFUÁ    M   \n",
              "2757  2758             N          15     PA     150520.0  OEIRAS DO PARÁ    M   \n",
              "\n",
              "     IDADE       DT_IS  SE_IS  MES_IS  ANO_IS MONITORAMENTO_IS OBITO  \n",
              "2753    34  19/03/2021   11.0     3.0    2021        2020/2021   SIM  \n",
              "2754    40  06/01/2021    1.0     1.0    2021        2020/2021   NÃO  \n",
              "2755    18  19/05/2021   20.0     5.0    2021        2020/2021   IGN  \n",
              "2756    21  07/07/2021   27.0     7.0    2021        2021/2022   SIM  \n",
              "2757    26  09/12/2021   49.0    12.0    2021        2021/2022   SIM  "
            ],
            "text/html": [
              "\n",
              "  <div id=\"df-e0e4ad7a-2941-4f4b-bc74-dbb2c2d50779\">\n",
              "    <div class=\"colab-df-container\">\n",
              "      <div>\n",
              "<style scoped>\n",
              "    .dataframe tbody tr th:only-of-type {\n",
              "        vertical-align: middle;\n",
              "    }\n",
              "\n",
              "    .dataframe tbody tr th {\n",
              "        vertical-align: top;\n",
              "    }\n",
              "\n",
              "    .dataframe thead th {\n",
              "        text-align: right;\n",
              "    }\n",
              "</style>\n",
              "<table border=\"1\" class=\"dataframe\">\n",
              "  <thead>\n",
              "    <tr style=\"text-align: right;\">\n",
              "      <th></th>\n",
              "      <th>ID</th>\n",
              "      <th>MACRORREG_LPI</th>\n",
              "      <th>COD_UF_LPI</th>\n",
              "      <th>UF_LPI</th>\n",
              "      <th>COD_MUN_LPI</th>\n",
              "      <th>MUN_LPI</th>\n",
              "      <th>SEXO</th>\n",
              "      <th>IDADE</th>\n",
              "      <th>DT_IS</th>\n",
              "      <th>SE_IS</th>\n",
              "      <th>MES_IS</th>\n",
              "      <th>ANO_IS</th>\n",
              "      <th>MONITORAMENTO_IS</th>\n",
              "      <th>OBITO</th>\n",
              "    </tr>\n",
              "  </thead>\n",
              "  <tbody>\n",
              "    <tr>\n",
              "      <th>2753</th>\n",
              "      <td>2754</td>\n",
              "      <td>S</td>\n",
              "      <td>42</td>\n",
              "      <td>SC</td>\n",
              "      <td>420060.0</td>\n",
              "      <td>ÁGUAS MORNAS</td>\n",
              "      <td>M</td>\n",
              "      <td>34</td>\n",
              "      <td>19/03/2021</td>\n",
              "      <td>11.0</td>\n",
              "      <td>3.0</td>\n",
              "      <td>2021</td>\n",
              "      <td>2020/2021</td>\n",
              "      <td>SIM</td>\n",
              "    </tr>\n",
              "    <tr>\n",
              "      <th>2754</th>\n",
              "      <td>2755</td>\n",
              "      <td>S</td>\n",
              "      <td>42</td>\n",
              "      <td>SC</td>\n",
              "      <td>421780.0</td>\n",
              "      <td>TAIÓ</td>\n",
              "      <td>F</td>\n",
              "      <td>40</td>\n",
              "      <td>06/01/2021</td>\n",
              "      <td>1.0</td>\n",
              "      <td>1.0</td>\n",
              "      <td>2021</td>\n",
              "      <td>2020/2021</td>\n",
              "      <td>NÃO</td>\n",
              "    </tr>\n",
              "    <tr>\n",
              "      <th>2755</th>\n",
              "      <td>2756</td>\n",
              "      <td>N</td>\n",
              "      <td>15</td>\n",
              "      <td>PA</td>\n",
              "      <td>150030.0</td>\n",
              "      <td>AFUÁ</td>\n",
              "      <td>M</td>\n",
              "      <td>18</td>\n",
              "      <td>19/05/2021</td>\n",
              "      <td>20.0</td>\n",
              "      <td>5.0</td>\n",
              "      <td>2021</td>\n",
              "      <td>2020/2021</td>\n",
              "      <td>IGN</td>\n",
              "    </tr>\n",
              "    <tr>\n",
              "      <th>2756</th>\n",
              "      <td>2757</td>\n",
              "      <td>N</td>\n",
              "      <td>15</td>\n",
              "      <td>PA</td>\n",
              "      <td>150030.0</td>\n",
              "      <td>AFUÁ</td>\n",
              "      <td>M</td>\n",
              "      <td>21</td>\n",
              "      <td>07/07/2021</td>\n",
              "      <td>27.0</td>\n",
              "      <td>7.0</td>\n",
              "      <td>2021</td>\n",
              "      <td>2021/2022</td>\n",
              "      <td>SIM</td>\n",
              "    </tr>\n",
              "    <tr>\n",
              "      <th>2757</th>\n",
              "      <td>2758</td>\n",
              "      <td>N</td>\n",
              "      <td>15</td>\n",
              "      <td>PA</td>\n",
              "      <td>150520.0</td>\n",
              "      <td>OEIRAS DO PARÁ</td>\n",
              "      <td>M</td>\n",
              "      <td>26</td>\n",
              "      <td>09/12/2021</td>\n",
              "      <td>49.0</td>\n",
              "      <td>12.0</td>\n",
              "      <td>2021</td>\n",
              "      <td>2021/2022</td>\n",
              "      <td>SIM</td>\n",
              "    </tr>\n",
              "  </tbody>\n",
              "</table>\n",
              "</div>\n",
              "      <button class=\"colab-df-convert\" onclick=\"convertToInteractive('df-e0e4ad7a-2941-4f4b-bc74-dbb2c2d50779')\"\n",
              "              title=\"Convert this dataframe to an interactive table.\"\n",
              "              style=\"display:none;\">\n",
              "        \n",
              "  <svg xmlns=\"http://www.w3.org/2000/svg\" height=\"24px\"viewBox=\"0 0 24 24\"\n",
              "       width=\"24px\">\n",
              "    <path d=\"M0 0h24v24H0V0z\" fill=\"none\"/>\n",
              "    <path d=\"M18.56 5.44l.94 2.06.94-2.06 2.06-.94-2.06-.94-.94-2.06-.94 2.06-2.06.94zm-11 1L8.5 8.5l.94-2.06 2.06-.94-2.06-.94L8.5 2.5l-.94 2.06-2.06.94zm10 10l.94 2.06.94-2.06 2.06-.94-2.06-.94-.94-2.06-.94 2.06-2.06.94z\"/><path d=\"M17.41 7.96l-1.37-1.37c-.4-.4-.92-.59-1.43-.59-.52 0-1.04.2-1.43.59L10.3 9.45l-7.72 7.72c-.78.78-.78 2.05 0 2.83L4 21.41c.39.39.9.59 1.41.59.51 0 1.02-.2 1.41-.59l7.78-7.78 2.81-2.81c.8-.78.8-2.07 0-2.86zM5.41 20L4 18.59l7.72-7.72 1.47 1.35L5.41 20z\"/>\n",
              "  </svg>\n",
              "      </button>\n",
              "      \n",
              "  <style>\n",
              "    .colab-df-container {\n",
              "      display:flex;\n",
              "      flex-wrap:wrap;\n",
              "      gap: 12px;\n",
              "    }\n",
              "\n",
              "    .colab-df-convert {\n",
              "      background-color: #E8F0FE;\n",
              "      border: none;\n",
              "      border-radius: 50%;\n",
              "      cursor: pointer;\n",
              "      display: none;\n",
              "      fill: #1967D2;\n",
              "      height: 32px;\n",
              "      padding: 0 0 0 0;\n",
              "      width: 32px;\n",
              "    }\n",
              "\n",
              "    .colab-df-convert:hover {\n",
              "      background-color: #E2EBFA;\n",
              "      box-shadow: 0px 1px 2px rgba(60, 64, 67, 0.3), 0px 1px 3px 1px rgba(60, 64, 67, 0.15);\n",
              "      fill: #174EA6;\n",
              "    }\n",
              "\n",
              "    [theme=dark] .colab-df-convert {\n",
              "      background-color: #3B4455;\n",
              "      fill: #D2E3FC;\n",
              "    }\n",
              "\n",
              "    [theme=dark] .colab-df-convert:hover {\n",
              "      background-color: #434B5C;\n",
              "      box-shadow: 0px 1px 3px 1px rgba(0, 0, 0, 0.15);\n",
              "      filter: drop-shadow(0px 1px 2px rgba(0, 0, 0, 0.3));\n",
              "      fill: #FFFFFF;\n",
              "    }\n",
              "  </style>\n",
              "\n",
              "      <script>\n",
              "        const buttonEl =\n",
              "          document.querySelector('#df-e0e4ad7a-2941-4f4b-bc74-dbb2c2d50779 button.colab-df-convert');\n",
              "        buttonEl.style.display =\n",
              "          google.colab.kernel.accessAllowed ? 'block' : 'none';\n",
              "\n",
              "        async function convertToInteractive(key) {\n",
              "          const element = document.querySelector('#df-e0e4ad7a-2941-4f4b-bc74-dbb2c2d50779');\n",
              "          const dataTable =\n",
              "            await google.colab.kernel.invokeFunction('convertToInteractive',\n",
              "                                                     [key], {});\n",
              "          if (!dataTable) return;\n",
              "\n",
              "          const docLinkHtml = 'Like what you see? Visit the ' +\n",
              "            '<a target=\"_blank\" href=https://colab.research.google.com/notebooks/data_table.ipynb>data table notebook</a>'\n",
              "            + ' to learn more about interactive tables.';\n",
              "          element.innerHTML = '';\n",
              "          dataTable['output_type'] = 'display_data';\n",
              "          await google.colab.output.renderOutput(dataTable, element);\n",
              "          const docLink = document.createElement('div');\n",
              "          docLink.innerHTML = docLinkHtml;\n",
              "          element.appendChild(docLink);\n",
              "        }\n",
              "      </script>\n",
              "    </div>\n",
              "  </div>\n",
              "  "
            ]
          },
          "metadata": {},
          "execution_count": 105
        }
      ]
    },
    {
      "cell_type": "markdown",
      "source": [
        "## Tratamento de Dados"
      ],
      "metadata": {
        "id": "EDZ642kWYkzf"
      }
    },
    {
      "cell_type": "code",
      "source": [
        "def converte_age_type(elm):\n",
        "    try:\n",
        "        e = elm.replace(',', '.')\n",
        "        return e\n",
        "    except AttributeError as e:\n",
        "        pass\n",
        "        \n",
        "\n",
        "df_2007['IDADE'] = df_2007['IDADE'].apply(converte_age_type).astype('float32')"
      ],
      "metadata": {
        "id": "Gw6X4kFbmwwQ",
        "colab": {
          "base_uri": "https://localhost:8080/"
        },
        "outputId": "603910fb-3175-4349-f935-f76fe344ca65"
      },
      "execution_count": 106,
      "outputs": [
        {
          "output_type": "stream",
          "name": "stderr",
          "text": [
            "/usr/local/lib/python3.7/dist-packages/ipykernel_launcher.py:9: SettingWithCopyWarning: \n",
            "A value is trying to be set on a copy of a slice from a DataFrame.\n",
            "Try using .loc[row_indexer,col_indexer] = value instead\n",
            "\n",
            "See the caveats in the documentation: https://pandas.pydata.org/pandas-docs/stable/user_guide/indexing.html#returning-a-view-versus-a-copy\n",
            "  if __name__ == '__main__':\n"
          ]
        }
      ]
    },
    {
      "cell_type": "markdown",
      "source": [
        "## Análise dos Dados"
      ],
      "metadata": {
        "id": "6B2I5qr-YsT1"
      }
    },
    {
      "cell_type": "code",
      "source": [
        "uf = df_2007.groupby(['UF_LPI', 'OBITO']).size().unstack().plot(kind='bar',stacked=True)\n",
        "plt.title('Distribuição dos casos por Estado. \\nBrasil, 2007 a 2021', fontsize=15)\n",
        "plt.ylabel('Nº de casos')\n",
        "plt.xlabel('Município')\n",
        "plt.show()"
      ],
      "metadata": {
        "colab": {
          "base_uri": "https://localhost:8080/",
          "height": 400
        },
        "id": "94aitP9vca8S",
        "outputId": "369ab4ed-0e5c-4dd5-b3b4-d78d92c0f2b0"
      },
      "execution_count": 107,
      "outputs": [
        {
          "output_type": "display_data",
          "data": {
            "text/plain": [
              "<Figure size 576x396 with 1 Axes>"
            ],
            "image/png": "[encoded data removed]"
          },
          "metadata": {}
        }
      ]
    },
    {
      "cell_type": "code",
      "source": [
        "df_2007.groupby('SEXO').size().plot(kind='pie', autopct='%1.1f%%', shadow=True)\n",
        "plt.title('Distribuição dos casos por Sexo. \\nBrasil, 2007 a 2021', fontsize=15)\n",
        "plt.ylabel('')\n",
        "plt.show()"
      ],
      "metadata": {
        "colab": {
          "base_uri": "https://localhost:8080/",
          "height": 363
        },
        "id": "zSJDHXCUf4Qa",
        "outputId": "c9dd3397-3ca0-4f94-ecef-1bd6a0a8b02e"
      },
      "execution_count": 108,
      "outputs": [
        {
          "output_type": "display_data",
          "data": {
            "text/plain": [
              "<Figure size 576x396 with 1 Axes>"
            ],
            "image/png": "[encoded data removed]"
          },
          "metadata": {}
        }
      ]
    },
    {
      "cell_type": "code",
      "source": [
        "def get_age_groups():\n",
        "    groups = {\n",
        "        'age_null': len(np.where(df_2007['IDADE'].isnull())),\n",
        "        'age_5': df_2007.query('IDADE < 5').shape[0],\n",
        "        'age_5_to_14': df_2007.query('IDADE >= 5 & IDADE <= 14').shape[0],\n",
        "        'age_15_to_29': df_2007.query('IDADE >= 15 & IDADE <= 29').shape[0],\n",
        "        'age_30': df_2007.query('IDADE >= 30').shape[0],\n",
        "    }\n",
        "\n",
        "    return groups\n",
        "\n",
        "age_groups = get_age_groups()\n",
        "values = age_groups.values()\n",
        "\n",
        "r = np.arange(len(values))\n",
        "X = ['Ign', ' < 5 anos', '5 a 14 aanos', '15 a 29 anos', '> 30 anos']\n",
        "\n",
        "plt.bar(r, values,  width=0.7)\n",
        "plt.xlabel('Faixa Etária', fontsize=12)\n",
        "plt.ylabel('Nº de casos', fontsize=12)\n",
        "plt.title(\"Distribuição dos casos por faixa etária. \\nBrasil, 2007 a 2021\", fontsize=16)\n",
        "plt.xticks(r, X)\n",
        "\n",
        "plt.show()"
      ],
      "metadata": {
        "colab": {
          "base_uri": "https://localhost:8080/",
          "height": 398
        },
        "id": "N38yaix5kj_j",
        "outputId": "9f30cfdd-1d31-45dc-fc53-0f7b2c13b1f7"
      },
      "execution_count": 109,
      "outputs": [
        {
          "output_type": "display_data",
          "data": {
            "text/plain": [
              "<Figure size 576x396 with 1 Axes>"
            ],
            "image/png": "[encoded data removed]"
          },
          "metadata": {}
        }
      ]
    }
  ]
}