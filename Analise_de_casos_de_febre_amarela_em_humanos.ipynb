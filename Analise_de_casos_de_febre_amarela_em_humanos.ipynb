{
  "nbformat": 4,
  "nbformat_minor": 0,
  "metadata": {
    "colab": {
      "provenance": [],
      "include_colab_link": true
    },
    "kernelspec": {
      "name": "python3",
      "display_name": "Python 3"
    },
    "language_info": {
      "name": "python"
    }
  },
  "cells": [
    {
      "cell_type": "markdown",
      "metadata": {
        "id": "view-in-github",
        "colab_type": "text"
      },
      "source": [
        "<a href=\"https://colab.research.google.com/github/pedrosena138/if1007-tasi4/blob/main/Analise_de_casos_de_febre_amarela_em_humanos.ipynb\" target=\"_parent\"><img src=\"https://colab.research.google.com/assets/colab-badge.svg\" alt=\"Open In Colab\"/></a>"
      ]
    },
    {
      "cell_type": "code",
      "execution_count": 51,
      "metadata": {
        "id": "0b33541aZnl3"
      },
      "outputs": [],
      "source": [
        "import pandas as pd\n",
        "import matplotlib.pyplot as plt\n",
        "%matplotlib inline\n",
        "\n",
        "params = {\n",
        "    'legend.fontsize': 'x-large',\n",
        "    'figure.figsize': (15, 5),\n",
        "    'axes.labelsize': 'x-large',\n",
        "    'axes.titlesize':'x-large',\n",
        "    'xtick.labelsize':'x-large',\n",
        "    'ytick.labelsize':'x-large'\n",
        "}\n",
        "\n",
        "plt.rcParams.update(params)\n",
        "plt.style.use('seaborn')"
      ]
    },
    {
      "cell_type": "code",
      "source": [
        "df = pd.read_csv('https://s3.sa-east-1.amazonaws.com/ckan.saude.gov.br/Febre+Amarela/fa_casoshumanos_1994-2021.csv', sep=';', encoding='latin-1')"
      ],
      "metadata": {
        "id": "6IvBbCRoaNpt"
      },
      "execution_count": 14,
      "outputs": []
    },
    {
      "cell_type": "code",
      "source": [
        "print(df.info())\n",
        "df.head()"
      ],
      "metadata": {
        "colab": {
          "base_uri": "https://localhost:8080/",
          "height": 588
        },
        "id": "ttF5hHmbboWC",
        "outputId": "31d89e68-cbfa-4471-f31b-2fe4b9013577"
      },
      "execution_count": 15,
      "outputs": [
        {
          "output_type": "stream",
          "name": "stdout",
          "text": [
            "<class 'pandas.core.frame.DataFrame'>\n",
            "RangeIndex: 2758 entries, 0 to 2757\n",
            "Data columns (total 14 columns):\n",
            " #   Column            Non-Null Count  Dtype  \n",
            "---  ------            --------------  -----  \n",
            " 0   ID                2758 non-null   int64  \n",
            " 1   MACRORREG_LPI     2758 non-null   object \n",
            " 2   COD_UF_LPI        2758 non-null   int64  \n",
            " 3   UF_LPI            2758 non-null   object \n",
            " 4   COD_MUN_LPI       2751 non-null   float64\n",
            " 5   MUN_LPI           2752 non-null   object \n",
            " 6   SEXO              2757 non-null   object \n",
            " 7   IDADE             2756 non-null   object \n",
            " 8   DT_IS             2753 non-null   object \n",
            " 9   SE_IS             2742 non-null   float64\n",
            " 10  MES_IS            2747 non-null   float64\n",
            " 11  ANO_IS            2758 non-null   int64  \n",
            " 12  MONITORAMENTO_IS  2758 non-null   object \n",
            " 13  OBITO             2758 non-null   object \n",
            "dtypes: float64(3), int64(3), object(8)\n",
            "memory usage: 301.8+ KB\n",
            "None\n"
          ]
        },
        {
          "output_type": "execute_result",
          "data": {
            "text/plain": [
              "   ID MACRORREG_LPI  COD_UF_LPI UF_LPI  COD_MUN_LPI                MUN_LPI  \\\n",
              "0   1             N          14     RR     140005.0            Alto Alegre   \n",
              "1   2             N          14     RR     140045.0              Pacaraima   \n",
              "2   3            NE          21     MA     210060.0   Amarante do Maranhão   \n",
              "3   4            NE          21     MA     210060.0   Amarante do Maranhão   \n",
              "4   5             N          15     PA     150270.0  Conceição do Araguaia   \n",
              "\n",
              "  SEXO IDADE       DT_IS  SE_IS  MES_IS  ANO_IS MONITORAMENTO_IS OBITO  \n",
              "0    M   NaN  29/11/1994   48.0    11.0    1994        1994/1995   SIM  \n",
              "1    M    19  19/02/1995    8.0     2.0    1995        1994/1995   NÃO  \n",
              "2    M    32  01/04/1995   13.0     4.0    1995        1994/1995   IGN  \n",
              "3    M    33  03/04/1995   14.0     4.0    1995        1994/1995   SIM  \n",
              "4    M    26  12/04/1995   15.0     4.0    1995        1994/1995   SIM  "
            ],
            "text/html": [
              "\n",
              "  <div id=\"df-e670e129-cd49-4298-b1eb-8b655bc4faec\">\n",
              "    <div class=\"colab-df-container\">\n",
              "      <div>\n",
              "<style scoped>\n",
              "    .dataframe tbody tr th:only-of-type {\n",
              "        vertical-align: middle;\n",
              "    }\n",
              "\n",
              "    .dataframe tbody tr th {\n",
              "        vertical-align: top;\n",
              "    }\n",
              "\n",
              "    .dataframe thead th {\n",
              "        text-align: right;\n",
              "    }\n",
              "</style>\n",
              "<table border=\"1\" class=\"dataframe\">\n",
              "  <thead>\n",
              "    <tr style=\"text-align: right;\">\n",
              "      <th></th>\n",
              "      <th>ID</th>\n",
              "      <th>MACRORREG_LPI</th>\n",
              "      <th>COD_UF_LPI</th>\n",
              "      <th>UF_LPI</th>\n",
              "      <th>COD_MUN_LPI</th>\n",
              "      <th>MUN_LPI</th>\n",
              "      <th>SEXO</th>\n",
              "      <th>IDADE</th>\n",
              "      <th>DT_IS</th>\n",
              "      <th>SE_IS</th>\n",
              "      <th>MES_IS</th>\n",
              "      <th>ANO_IS</th>\n",
              "      <th>MONITORAMENTO_IS</th>\n",
              "      <th>OBITO</th>\n",
              "    </tr>\n",
              "  </thead>\n",
              "  <tbody>\n",
              "    <tr>\n",
              "      <th>0</th>\n",
              "      <td>1</td>\n",
              "      <td>N</td>\n",
              "      <td>14</td>\n",
              "      <td>RR</td>\n",
              "      <td>140005.0</td>\n",
              "      <td>Alto Alegre</td>\n",
              "      <td>M</td>\n",
              "      <td>NaN</td>\n",
              "      <td>29/11/1994</td>\n",
              "      <td>48.0</td>\n",
              "      <td>11.0</td>\n",
              "      <td>1994</td>\n",
              "      <td>1994/1995</td>\n",
              "      <td>SIM</td>\n",
              "    </tr>\n",
              "    <tr>\n",
              "      <th>1</th>\n",
              "      <td>2</td>\n",
              "      <td>N</td>\n",
              "      <td>14</td>\n",
              "      <td>RR</td>\n",
              "      <td>140045.0</td>\n",
              "      <td>Pacaraima</td>\n",
              "      <td>M</td>\n",
              "      <td>19</td>\n",
              "      <td>19/02/1995</td>\n",
              "      <td>8.0</td>\n",
              "      <td>2.0</td>\n",
              "      <td>1995</td>\n",
              "      <td>1994/1995</td>\n",
              "      <td>NÃO</td>\n",
              "    </tr>\n",
              "    <tr>\n",
              "      <th>2</th>\n",
              "      <td>3</td>\n",
              "      <td>NE</td>\n",
              "      <td>21</td>\n",
              "      <td>MA</td>\n",
              "      <td>210060.0</td>\n",
              "      <td>Amarante do Maranhão</td>\n",
              "      <td>M</td>\n",
              "      <td>32</td>\n",
              "      <td>01/04/1995</td>\n",
              "      <td>13.0</td>\n",
              "      <td>4.0</td>\n",
              "      <td>1995</td>\n",
              "      <td>1994/1995</td>\n",
              "      <td>IGN</td>\n",
              "    </tr>\n",
              "    <tr>\n",
              "      <th>3</th>\n",
              "      <td>4</td>\n",
              "      <td>NE</td>\n",
              "      <td>21</td>\n",
              "      <td>MA</td>\n",
              "      <td>210060.0</td>\n",
              "      <td>Amarante do Maranhão</td>\n",
              "      <td>M</td>\n",
              "      <td>33</td>\n",
              "      <td>03/04/1995</td>\n",
              "      <td>14.0</td>\n",
              "      <td>4.0</td>\n",
              "      <td>1995</td>\n",
              "      <td>1994/1995</td>\n",
              "      <td>SIM</td>\n",
              "    </tr>\n",
              "    <tr>\n",
              "      <th>4</th>\n",
              "      <td>5</td>\n",
              "      <td>N</td>\n",
              "      <td>15</td>\n",
              "      <td>PA</td>\n",
              "      <td>150270.0</td>\n",
              "      <td>Conceição do Araguaia</td>\n",
              "      <td>M</td>\n",
              "      <td>26</td>\n",
              "      <td>12/04/1995</td>\n",
              "      <td>15.0</td>\n",
              "      <td>4.0</td>\n",
              "      <td>1995</td>\n",
              "      <td>1994/1995</td>\n",
              "      <td>SIM</td>\n",
              "    </tr>\n",
              "  </tbody>\n",
              "</table>\n",
              "</div>\n",
              "      <button class=\"colab-df-convert\" onclick=\"convertToInteractive('df-e670e129-cd49-4298-b1eb-8b655bc4faec')\"\n",
              "              title=\"Convert this dataframe to an interactive table.\"\n",
              "              style=\"display:none;\">\n",
              "        \n",
              "  <svg xmlns=\"http://www.w3.org/2000/svg\" height=\"24px\"viewBox=\"0 0 24 24\"\n",
              "       width=\"24px\">\n",
              "    <path d=\"M0 0h24v24H0V0z\" fill=\"none\"/>\n",
              "    <path d=\"M18.56 5.44l.94 2.06.94-2.06 2.06-.94-2.06-.94-.94-2.06-.94 2.06-2.06.94zm-11 1L8.5 8.5l.94-2.06 2.06-.94-2.06-.94L8.5 2.5l-.94 2.06-2.06.94zm10 10l.94 2.06.94-2.06 2.06-.94-2.06-.94-.94-2.06-.94 2.06-2.06.94z\"/><path d=\"M17.41 7.96l-1.37-1.37c-.4-.4-.92-.59-1.43-.59-.52 0-1.04.2-1.43.59L10.3 9.45l-7.72 7.72c-.78.78-.78 2.05 0 2.83L4 21.41c.39.39.9.59 1.41.59.51 0 1.02-.2 1.41-.59l7.78-7.78 2.81-2.81c.8-.78.8-2.07 0-2.86zM5.41 20L4 18.59l7.72-7.72 1.47 1.35L5.41 20z\"/>\n",
              "  </svg>\n",
              "      </button>\n",
              "      \n",
              "  <style>\n",
              "    .colab-df-container {\n",
              "      display:flex;\n",
              "      flex-wrap:wrap;\n",
              "      gap: 12px;\n",
              "    }\n",
              "\n",
              "    .colab-df-convert {\n",
              "      background-color: #E8F0FE;\n",
              "      border: none;\n",
              "      border-radius: 50%;\n",
              "      cursor: pointer;\n",
              "      display: none;\n",
              "      fill: #1967D2;\n",
              "      height: 32px;\n",
              "      padding: 0 0 0 0;\n",
              "      width: 32px;\n",
              "    }\n",
              "\n",
              "    .colab-df-convert:hover {\n",
              "      background-color: #E2EBFA;\n",
              "      box-shadow: 0px 1px 2px rgba(60, 64, 67, 0.3), 0px 1px 3px 1px rgba(60, 64, 67, 0.15);\n",
              "      fill: #174EA6;\n",
              "    }\n",
              "\n",
              "    [theme=dark] .colab-df-convert {\n",
              "      background-color: #3B4455;\n",
              "      fill: #D2E3FC;\n",
              "    }\n",
              "\n",
              "    [theme=dark] .colab-df-convert:hover {\n",
              "      background-color: #434B5C;\n",
              "      box-shadow: 0px 1px 3px 1px rgba(0, 0, 0, 0.15);\n",
              "      filter: drop-shadow(0px 1px 2px rgba(0, 0, 0, 0.3));\n",
              "      fill: #FFFFFF;\n",
              "    }\n",
              "  </style>\n",
              "\n",
              "      <script>\n",
              "        const buttonEl =\n",
              "          document.querySelector('#df-e670e129-cd49-4298-b1eb-8b655bc4faec button.colab-df-convert');\n",
              "        buttonEl.style.display =\n",
              "          google.colab.kernel.accessAllowed ? 'block' : 'none';\n",
              "\n",
              "        async function convertToInteractive(key) {\n",
              "          const element = document.querySelector('#df-e670e129-cd49-4298-b1eb-8b655bc4faec');\n",
              "          const dataTable =\n",
              "            await google.colab.kernel.invokeFunction('convertToInteractive',\n",
              "                                                     [key], {});\n",
              "          if (!dataTable) return;\n",
              "\n",
              "          const docLinkHtml = 'Like what you see? Visit the ' +\n",
              "            '<a target=\"_blank\" href=https://colab.research.google.com/notebooks/data_table.ipynb>data table notebook</a>'\n",
              "            + ' to learn more about interactive tables.';\n",
              "          element.innerHTML = '';\n",
              "          dataTable['output_type'] = 'display_data';\n",
              "          await google.colab.output.renderOutput(dataTable, element);\n",
              "          const docLink = document.createElement('div');\n",
              "          docLink.innerHTML = docLinkHtml;\n",
              "          element.appendChild(docLink);\n",
              "        }\n",
              "      </script>\n",
              "    </div>\n",
              "  </div>\n",
              "  "
            ]
          },
          "metadata": {},
          "execution_count": 15
        }
      ]
    },
    {
      "cell_type": "code",
      "source": [
        "total = df.shape[0]\n",
        "values = df.groupby(df['ANO_IS'] >= 2007).size().values\n",
        "labels = ['Antes de 2007', 'Depois de 2007']\n",
        "plt.pie(values, labels=labels, autopct='%1.1f%%', shadow=True)\n",
        "plt.axis('equal')\n",
        "plt.title('Quantidade de Notificações', fontsize=20)\n",
        "plt.show()"
      ],
      "metadata": {
        "colab": {
          "base_uri": "https://localhost:8080/",
          "height": 324
        },
        "id": "Ybn07iujNZKQ",
        "outputId": "60918d21-658c-4b8e-9f50-0c2908850301"
      },
      "execution_count": 48,
      "outputs": [
        {
          "output_type": "display_data",
          "data": {
            "text/plain": [
              "<Figure size 1080x360 with 1 Axes>"
            ],
            "image/png": "[encoded data removed]"
          },
          "metadata": {}
        }
      ]
    },
    {
      "cell_type": "code",
      "source": [
        "df = df[df['ANO_IS'] >= 2007]\n",
        "print(df.info())\n",
        "df.head()"
      ],
      "metadata": {
        "colab": {
          "base_uri": "https://localhost:8080/",
          "height": 588
        },
        "id": "PPjyosLTPhtZ",
        "outputId": "05256c62-9f8c-4e6e-e970-1c90b2a57b53"
      },
      "execution_count": 58,
      "outputs": [
        {
          "output_type": "stream",
          "name": "stdout",
          "text": [
            "<class 'pandas.core.frame.DataFrame'>\n",
            "Int64Index: 2409 entries, 349 to 2757\n",
            "Data columns (total 14 columns):\n",
            " #   Column            Non-Null Count  Dtype  \n",
            "---  ------            --------------  -----  \n",
            " 0   ID                2409 non-null   int64  \n",
            " 1   MACRORREG_LPI     2409 non-null   object \n",
            " 2   COD_UF_LPI        2409 non-null   int64  \n",
            " 3   UF_LPI            2409 non-null   object \n",
            " 4   COD_MUN_LPI       2402 non-null   float64\n",
            " 5   MUN_LPI           2403 non-null   object \n",
            " 6   SEXO              2408 non-null   object \n",
            " 7   IDADE             2408 non-null   object \n",
            " 8   DT_IS             2406 non-null   object \n",
            " 9   SE_IS             2406 non-null   float64\n",
            " 10  MES_IS            2409 non-null   float64\n",
            " 11  ANO_IS            2409 non-null   int64  \n",
            " 12  MONITORAMENTO_IS  2409 non-null   object \n",
            " 13  OBITO             2409 non-null   object \n",
            "dtypes: float64(3), int64(3), object(8)\n",
            "memory usage: 282.3+ KB\n",
            "None\n"
          ]
        },
        {
          "output_type": "execute_result",
          "data": {
            "text/plain": [
              "      ID MACRORREG_LPI  COD_UF_LPI UF_LPI  COD_MUN_LPI     MUN_LPI SEXO IDADE  \\\n",
              "349  350             N          14     RR     140023.0     CAROEBE    M    15   \n",
              "350  351             N          13     AM     130250.0  MANACAPURU    M    33   \n",
              "351  352             N          13     AM     130185.0    IRANDUBA    M    21   \n",
              "352  353            CO          52     GO     521190.0       JATAÍ    M    23   \n",
              "353  354            CO          52     GO     521190.0       JATAÍ    M    54   \n",
              "\n",
              "          DT_IS  SE_IS  MES_IS  ANO_IS MONITORAMENTO_IS OBITO  \n",
              "349  12/02/2007    7.0     2.0    2007        2006/2007   SIM  \n",
              "350  03/03/2007    9.0     3.0    2007        2006/2007   SIM  \n",
              "351  17/03/2007   11.0     3.0    2007        2006/2007   SIM  \n",
              "352  10/04/2007   15.0     4.0    2007        2006/2007   SIM  \n",
              "353  20/04/2007   16.0     4.0    2007        2006/2007   SIM  "
            ],
            "text/html": [
              "\n",
              "  <div id=\"df-8ecb4978-16d0-4aff-a51c-dcccf96dccc7\">\n",
              "    <div class=\"colab-df-container\">\n",
              "      <div>\n",
              "<style scoped>\n",
              "    .dataframe tbody tr th:only-of-type {\n",
              "        vertical-align: middle;\n",
              "    }\n",
              "\n",
              "    .dataframe tbody tr th {\n",
              "        vertical-align: top;\n",
              "    }\n",
              "\n",
              "    .dataframe thead th {\n",
              "        text-align: right;\n",
              "    }\n",
              "</style>\n",
              "<table border=\"1\" class=\"dataframe\">\n",
              "  <thead>\n",
              "    <tr style=\"text-align: right;\">\n",
              "      <th></th>\n",
              "      <th>ID</th>\n",
              "      <th>MACRORREG_LPI</th>\n",
              "      <th>COD_UF_LPI</th>\n",
              "      <th>UF_LPI</th>\n",
              "      <th>COD_MUN_LPI</th>\n",
              "      <th>MUN_LPI</th>\n",
              "      <th>SEXO</th>\n",
              "      <th>IDADE</th>\n",
              "      <th>DT_IS</th>\n",
              "      <th>SE_IS</th>\n",
              "      <th>MES_IS</th>\n",
              "      <th>ANO_IS</th>\n",
              "      <th>MONITORAMENTO_IS</th>\n",
              "      <th>OBITO</th>\n",
              "    </tr>\n",
              "  </thead>\n",
              "  <tbody>\n",
              "    <tr>\n",
              "      <th>349</th>\n",
              "      <td>350</td>\n",
              "      <td>N</td>\n",
              "      <td>14</td>\n",
              "      <td>RR</td>\n",
              "      <td>140023.0</td>\n",
              "      <td>CAROEBE</td>\n",
              "      <td>M</td>\n",
              "      <td>15</td>\n",
              "      <td>12/02/2007</td>\n",
              "      <td>7.0</td>\n",
              "      <td>2.0</td>\n",
              "      <td>2007</td>\n",
              "      <td>2006/2007</td>\n",
              "      <td>SIM</td>\n",
              "    </tr>\n",
              "    <tr>\n",
              "      <th>350</th>\n",
              "      <td>351</td>\n",
              "      <td>N</td>\n",
              "      <td>13</td>\n",
              "      <td>AM</td>\n",
              "      <td>130250.0</td>\n",
              "      <td>MANACAPURU</td>\n",
              "      <td>M</td>\n",
              "      <td>33</td>\n",
              "      <td>03/03/2007</td>\n",
              "      <td>9.0</td>\n",
              "      <td>3.0</td>\n",
              "      <td>2007</td>\n",
              "      <td>2006/2007</td>\n",
              "      <td>SIM</td>\n",
              "    </tr>\n",
              "    <tr>\n",
              "      <th>351</th>\n",
              "      <td>352</td>\n",
              "      <td>N</td>\n",
              "      <td>13</td>\n",
              "      <td>AM</td>\n",
              "      <td>130185.0</td>\n",
              "      <td>IRANDUBA</td>\n",
              "      <td>M</td>\n",
              "      <td>21</td>\n",
              "      <td>17/03/2007</td>\n",
              "      <td>11.0</td>\n",
              "      <td>3.0</td>\n",
              "      <td>2007</td>\n",
              "      <td>2006/2007</td>\n",
              "      <td>SIM</td>\n",
              "    </tr>\n",
              "    <tr>\n",
              "      <th>352</th>\n",
              "      <td>353</td>\n",
              "      <td>CO</td>\n",
              "      <td>52</td>\n",
              "      <td>GO</td>\n",
              "      <td>521190.0</td>\n",
              "      <td>JATAÍ</td>\n",
              "      <td>M</td>\n",
              "      <td>23</td>\n",
              "      <td>10/04/2007</td>\n",
              "      <td>15.0</td>\n",
              "      <td>4.0</td>\n",
              "      <td>2007</td>\n",
              "      <td>2006/2007</td>\n",
              "      <td>SIM</td>\n",
              "    </tr>\n",
              "    <tr>\n",
              "      <th>353</th>\n",
              "      <td>354</td>\n",
              "      <td>CO</td>\n",
              "      <td>52</td>\n",
              "      <td>GO</td>\n",
              "      <td>521190.0</td>\n",
              "      <td>JATAÍ</td>\n",
              "      <td>M</td>\n",
              "      <td>54</td>\n",
              "      <td>20/04/2007</td>\n",
              "      <td>16.0</td>\n",
              "      <td>4.0</td>\n",
              "      <td>2007</td>\n",
              "      <td>2006/2007</td>\n",
              "      <td>SIM</td>\n",
              "    </tr>\n",
              "  </tbody>\n",
              "</table>\n",
              "</div>\n",
              "      <button class=\"colab-df-convert\" onclick=\"convertToInteractive('df-8ecb4978-16d0-4aff-a51c-dcccf96dccc7')\"\n",
              "              title=\"Convert this dataframe to an interactive table.\"\n",
              "              style=\"display:none;\">\n",
              "        \n",
              "  <svg xmlns=\"http://www.w3.org/2000/svg\" height=\"24px\"viewBox=\"0 0 24 24\"\n",
              "       width=\"24px\">\n",
              "    <path d=\"M0 0h24v24H0V0z\" fill=\"none\"/>\n",
              "    <path d=\"M18.56 5.44l.94 2.06.94-2.06 2.06-.94-2.06-.94-.94-2.06-.94 2.06-2.06.94zm-11 1L8.5 8.5l.94-2.06 2.06-.94-2.06-.94L8.5 2.5l-.94 2.06-2.06.94zm10 10l.94 2.06.94-2.06 2.06-.94-2.06-.94-.94-2.06-.94 2.06-2.06.94z\"/><path d=\"M17.41 7.96l-1.37-1.37c-.4-.4-.92-.59-1.43-.59-.52 0-1.04.2-1.43.59L10.3 9.45l-7.72 7.72c-.78.78-.78 2.05 0 2.83L4 21.41c.39.39.9.59 1.41.59.51 0 1.02-.2 1.41-.59l7.78-7.78 2.81-2.81c.8-.78.8-2.07 0-2.86zM5.41 20L4 18.59l7.72-7.72 1.47 1.35L5.41 20z\"/>\n",
              "  </svg>\n",
              "      </button>\n",
              "      \n",
              "  <style>\n",
              "    .colab-df-container {\n",
              "      display:flex;\n",
              "      flex-wrap:wrap;\n",
              "      gap: 12px;\n",
              "    }\n",
              "\n",
              "    .colab-df-convert {\n",
              "      background-color: #E8F0FE;\n",
              "      border: none;\n",
              "      border-radius: 50%;\n",
              "      cursor: pointer;\n",
              "      display: none;\n",
              "      fill: #1967D2;\n",
              "      height: 32px;\n",
              "      padding: 0 0 0 0;\n",
              "      width: 32px;\n",
              "    }\n",
              "\n",
              "    .colab-df-convert:hover {\n",
              "      background-color: #E2EBFA;\n",
              "      box-shadow: 0px 1px 2px rgba(60, 64, 67, 0.3), 0px 1px 3px 1px rgba(60, 64, 67, 0.15);\n",
              "      fill: #174EA6;\n",
              "    }\n",
              "\n",
              "    [theme=dark] .colab-df-convert {\n",
              "      background-color: #3B4455;\n",
              "      fill: #D2E3FC;\n",
              "    }\n",
              "\n",
              "    [theme=dark] .colab-df-convert:hover {\n",
              "      background-color: #434B5C;\n",
              "      box-shadow: 0px 1px 3px 1px rgba(0, 0, 0, 0.15);\n",
              "      filter: drop-shadow(0px 1px 2px rgba(0, 0, 0, 0.3));\n",
              "      fill: #FFFFFF;\n",
              "    }\n",
              "  </style>\n",
              "\n",
              "      <script>\n",
              "        const buttonEl =\n",
              "          document.querySelector('#df-8ecb4978-16d0-4aff-a51c-dcccf96dccc7 button.colab-df-convert');\n",
              "        buttonEl.style.display =\n",
              "          google.colab.kernel.accessAllowed ? 'block' : 'none';\n",
              "\n",
              "        async function convertToInteractive(key) {\n",
              "          const element = document.querySelector('#df-8ecb4978-16d0-4aff-a51c-dcccf96dccc7');\n",
              "          const dataTable =\n",
              "            await google.colab.kernel.invokeFunction('convertToInteractive',\n",
              "                                                     [key], {});\n",
              "          if (!dataTable) return;\n",
              "\n",
              "          const docLinkHtml = 'Like what you see? Visit the ' +\n",
              "            '<a target=\"_blank\" href=https://colab.research.google.com/notebooks/data_table.ipynb>data table notebook</a>'\n",
              "            + ' to learn more about interactive tables.';\n",
              "          element.innerHTML = '';\n",
              "          dataTable['output_type'] = 'display_data';\n",
              "          await google.colab.output.renderOutput(dataTable, element);\n",
              "          const docLink = document.createElement('div');\n",
              "          docLink.innerHTML = docLinkHtml;\n",
              "          element.appendChild(docLink);\n",
              "        }\n",
              "      </script>\n",
              "    </div>\n",
              "  </div>\n",
              "  "
            ]
          },
          "metadata": {},
          "execution_count": 58
        }
      ]
    },
    {
      "cell_type": "code",
      "source": [
        "df.groupby('UF_LPI').size().plot(kind='bar')"
      ],
      "metadata": {
        "colab": {
          "base_uri": "https://localhost:8080/",
          "height": 384
        },
        "id": "94aitP9vca8S",
        "outputId": "0c04428a-dd02-47b7-e340-2382298a3520"
      },
      "execution_count": 53,
      "outputs": [
        {
          "output_type": "execute_result",
          "data": {
            "text/plain": [
              "<matplotlib.axes._subplots.AxesSubplot at 0x7fa483722850>"
            ]
          },
          "metadata": {},
          "execution_count": 53
        },
        {
          "output_type": "display_data",
          "data": {
            "text/plain": [
              "<Figure size 576x396 with 1 Axes>"
            ],
            "image/png": "[encoded data removed]"
          },
          "metadata": {}
        }
      ]
    },
    {
      "cell_type": "code",
      "source": [
        "df.groupby('MACRORREG_LPI').size().plot(kind='bar')"
      ],
      "metadata": {
        "colab": {
          "base_uri": "https://localhost:8080/",
          "height": 383
        },
        "id": "Go9de7ySgJcs",
        "outputId": "e680650c-5be2-4fc4-b2e2-7287c48ec5a9"
      },
      "execution_count": 54,
      "outputs": [
        {
          "output_type": "execute_result",
          "data": {
            "text/plain": [
              "<matplotlib.axes._subplots.AxesSubplot at 0x7fa4837f9ed0>"
            ]
          },
          "metadata": {},
          "execution_count": 54
        },
        {
          "output_type": "display_data",
          "data": {
            "text/plain": [
              "<Figure size 576x396 with 1 Axes>"
            ],
            "image/png": "[encoded data removed]"
          },
          "metadata": {}
        }
      ]
    },
    {
      "cell_type": "code",
      "source": [
        "df.groupby('SEXO').size().plot(kind='pie')"
      ],
      "metadata": {
        "colab": {
          "base_uri": "https://localhost:8080/",
          "height": 347
        },
        "id": "zSJDHXCUf4Qa",
        "outputId": "abd699eb-8fb0-4ff8-cb51-a610ff5f946b"
      },
      "execution_count": 55,
      "outputs": [
        {
          "output_type": "execute_result",
          "data": {
            "text/plain": [
              "<matplotlib.axes._subplots.AxesSubplot at 0x7fa483a02750>"
            ]
          },
          "metadata": {},
          "execution_count": 55
        },
        {
          "output_type": "display_data",
          "data": {
            "text/plain": [
              "<Figure size 576x396 with 1 Axes>"
            ],
            "image/png": "[encoded data removed]"
          },
          "metadata": {}
        }
      ]
    },
    {
      "cell_type": "code",
      "source": [
        "df.groupby('OBITO').size().plot(kind='pie')"
      ],
      "metadata": {
        "colab": {
          "base_uri": "https://localhost:8080/",
          "height": 347
        },
        "id": "PAQebbJlfiSB",
        "outputId": "ebdd9928-15bf-40e8-ebdf-c2446da880bb"
      },
      "execution_count": 56,
      "outputs": [
        {
          "output_type": "execute_result",
          "data": {
            "text/plain": [
              "<matplotlib.axes._subplots.AxesSubplot at 0x7fa483b04850>"
            ]
          },
          "metadata": {},
          "execution_count": 56
        },
        {
          "output_type": "display_data",
          "data": {
            "text/plain": [
              "<Figure size 576x396 with 1 Axes>"
            ],
            "image/png": "[encoded data removed]"
          },
          "metadata": {}
        }
      ]
    }
  ]
}